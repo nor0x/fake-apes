{
  "cells": [
    {
      "cell_type": "markdown",
      "metadata": {
        "id": "0_moQRhuoyw1"
      },
      "source": [
        "Hello World!"
      ]
    },
    {
      "cell_type": "markdown",
      "metadata": {
        "id": "HJvM5jg1oveD"
      },
      "source": [
        "check runtime"
      ]
    },
    {
      "cell_type": "code",
      "execution_count": null,
      "metadata": {
        "colab": {
          "base_uri": "https://localhost:8080/"
        },
        "id": "wNjv1BBFTGZz",
        "outputId": "ff905358-88d1-4cd2-a63d-0cbff4d00d06"
      },
      "outputs": [],
      "source": [
        "#checking GPU availability in CoLab\n",
        "!nvidia-smi"
      ]
    },
    {
      "cell_type": "code",
      "execution_count": null,
      "metadata": {
        "colab": {
          "base_uri": "https://localhost:8080/"
        },
        "id": "y76_BjIqou1T",
        "outputId": "cd21042b-8f33-448a-ac8d-54414886d40d"
      },
      "outputs": [],
      "source": [
        "#for running in CoLab\n",
        "try:\n",
        "    from google.colab import drive\n",
        "    drive.mount('/content/drive', force_remount=True)\n",
        "    COLAB = True\n",
        "    print(\"CoLab connected to GDrive\")\n",
        "except:\n",
        "    print('CoLab NOT connected')\n",
        "    COLAB = False"
      ]
    },
    {
      "cell_type": "markdown",
      "metadata": {
        "id": "KXBqARwHpPf3"
      },
      "source": [
        "Setup + Requirements"
      ]
    },
    {
      "cell_type": "code",
      "execution_count": null,
      "metadata": {
        "colab": {
          "base_uri": "https://localhost:8080/"
        },
        "id": "NbCYGerQpVQX",
        "outputId": "92d35c22-69ee-4c01-f813-28380ee5682a"
      },
      "outputs": [],
      "source": [
        "!pip3 install torch torchvision torchaudio --extra-index-url https://download.pytorch.org/whl/cu113\n",
        "!git clone https://github.com/nor0x/stylegan3\n",
        "!pip install ninja"
      ]
    },
    {
      "cell_type": "markdown",
      "metadata": {
        "id": "aSEYOhO4qpSI"
      },
      "source": [
        "Check files"
      ]
    },
    {
      "cell_type": "code",
      "execution_count": null,
      "metadata": {
        "colab": {
          "base_uri": "https://localhost:8080/"
        },
        "id": "z8siCdlRqwQl",
        "outputId": "3bbd193b-5c5e-4e48-d13a-a26dca36b5d2"
      },
      "outputs": [],
      "source": [
        "!ls /content/drive/MyDrive/data"
      ]
    },
    {
      "cell_type": "markdown",
      "metadata": {
        "id": "dFq-mhvi5tDQ"
      },
      "source": [
        "Prepare Images"
      ]
    },
    {
      "cell_type": "code",
      "execution_count": null,
      "metadata": {
        "colab": {
          "base_uri": "https://localhost:8080/"
        },
        "id": "5CALKcSv5prt",
        "outputId": "e76b5697-709f-4aeb-826b-5598967fe986"
      },
      "outputs": [],
      "source": [
        "!python /content/stylegan3/dataset_tool.py --source ~/gan/images/apes --dest ~/gan/dataset/apes"
      ]
    },
    {
      "cell_type": "markdown",
      "metadata": {
        "id": "_oH67ypo6wmY"
      },
      "source": [
        "Check images"
      ]
    },
    {
      "cell_type": "code",
      "execution_count": null,
      "metadata": {
        "colab": {
          "base_uri": "https://localhost:8080/",
          "height": 236
        },
        "id": "CKWto9cZ6zt2",
        "outputId": "867d4413-f191-420e-deab-9dfce3db5232"
      },
      "outputs": [],
      "source": [
        "from os import listdir\n",
        "from os.path import isfile, join\n",
        "import os\n",
        "from PIL import Image\n",
        "from tqdm.notebook import tqdm\n",
        "\n",
        "IMAGE_PATH = '~/gan/images/apes'\n",
        "files = [f for f in listdir(IMAGE_PATH) if isfile(join(IMAGE_PATH, f))]\n",
        "\n",
        "base_size = None\n",
        "for file in tqdm(files):\n",
        "  file2 = os.path.join(IMAGE_PATH,file)\n",
        "  img = Image.open(file2)\n",
        "  sz = img.size\n",
        "  if base_size and sz!=base_size:\n",
        "    print(f\"Inconsistant size: {file2}\")\n",
        "  elif img.mode!='RGB':\n",
        "    print(f\"Inconsistant color format: {file2}\")\n",
        "  else:\n",
        "    base_size = sz"
      ]
    },
    {
      "cell_type": "markdown",
      "metadata": {
        "id": "jf1rfBCJIwxX"
      },
      "source": [
        "Initial Training"
      ]
    },
    {
      "cell_type": "code",
      "execution_count": null,
      "metadata": {
        "id": "EuCoo_3_Iq68"
      },
      "outputs": [],
      "source": [
        "import os\n",
        "\n",
        "# Modify these to suit your needs\n",
        "EXPERIMENTS = \"~/gan/experiments\"\n",
        "DATA = \"~/gan/dataset/apes\"\n",
        "SNAP = 10\n",
        "\n",
        "# Build the command and run it\n",
        "cmd = f\"/usr/bin/python3 /content/stylegan3/train.py --outdir {EXPERIMENTS} --data {DATA} --cfg stylegan2 --gpus=1 --batch=32 --gamma=2.0 --batch-gpu=16 --snap=10\"\n",
        "!{cmd}"
      ]
    },
    {
      "cell_type": "code",
      "execution_count": null,
      "metadata": {
        "colab": {
          "base_uri": "https://localhost:8080/"
        },
        "id": "m-OElxiuPZ0Q",
        "outputId": "a7af24ff-6097-40ff-87eb-6a41bdf6acdb"
      },
      "outputs": [],
      "source": [
        "import os\n",
        "\n",
        "EXPERIMENTS = \"~/gan/experiments\"\n",
        "DATA = \"~/gan/dataset/apes\"\n",
        "SNAP = 20\n",
        "GAMMA = 32\n",
        "NETWORK = \"network-snapshot-001240.pkl\"\n",
        "RESUMEDIR = \"00001-stylegan3-t-apes-gpus1-batch32-gamma16\"\n",
        "RESUME = os.path.join(EXPERIMENTS, RESUMEDIR, NETWORK)\n",
        "\n",
        "cmd = f\"/usr/bin/python3 /content/stylegan3/train.py --cfg stylegan3-t --gpus=1 --batch=32 --gamma={GAMMA} --batch-gpu=16 --snap {SNAP} --resume {RESUME} --outdir {EXPERIMENTS} --data {DATA}\"\n",
        "\n",
        "!{cmd}"
      ]
    },
    {
      "cell_type": "markdown",
      "metadata": {
        "id": "vhCYJzIHclnQ"
      },
      "source": []
    }
  ],
  "metadata": {
    "accelerator": "GPU",
    "colab": {
      "background_execution": "on",
      "collapsed_sections": [],
      "machine_shape": "hm",
      "provenance": []
    },
    "gpuClass": "standard",
    "kernelspec": {
      "display_name": "Python 3",
      "name": "python3"
    },
    "language_info": {
      "name": "python"
    }
  },
  "nbformat": 4,
  "nbformat_minor": 0
}
